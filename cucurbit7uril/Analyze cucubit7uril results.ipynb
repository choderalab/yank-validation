{
 "cells": [
  {
   "cell_type": "code",
   "execution_count": 1,
   "metadata": {},
   "outputs": [],
   "source": [
    "%matplotlib inline\n",
    "\n",
    "import matplotlib.pyplot as plt\n",
    "import seaborn as sns\n",
    "import numpy as np\n",
    "\n",
    "from simtk import unit"
   ]
  },
  {
   "cell_type": "code",
   "execution_count": 43,
   "metadata": {},
   "outputs": [],
   "source": [
    "apr_data = dict()\n",
    "apr_data['cb7argon'] = { \n",
    "    'free_energy_diff' : -1.01 * unit.kilocalories_per_mole, \n",
    "    'free_energy_diff_error' : 0.10 * unit.kilocalories_per_mole\n",
    "}\n",
    "apr_data['cb7a1'] = {\n",
    "    'free_energy_diff' : -24.00 * unit.kilocalories_per_mole, \n",
    "    'free_energy_diff_error' : 0.14 * unit.kilocalories_per_mole    \n",
    "}\n",
    "apr_data['cb7b2'] = {\n",
    "    'free_energy_diff' : -21.49 * unit.kilocalories_per_mole, \n",
    "    'free_energy_diff_error' : 0.14 * unit.kilocalories_per_mole    \n",
    "}"
   ]
  },
  {
   "cell_type": "code",
   "execution_count": null,
   "metadata": {},
   "outputs": [],
   "source": []
  },
  {
   "cell_type": "code",
   "execution_count": 5,
   "metadata": {},
   "outputs": [],
   "source": [
    "# Load analysis data\n",
    "import pickle\n",
    "analysis_data = dict()\n",
    "for prefix in ['sams', 'repex']:\n",
    "    with open(prefix + '.pkl', 'rb') as analysisfile:\n",
    "        analysis_data[prefix] = pickle.load(analysisfile)"
   ]
  },
  {
   "cell_type": "code",
   "execution_count": 25,
   "metadata": {},
   "outputs": [
    {
     "name": "stdout",
     "output_type": "stream",
     "text": [
      "dict_keys(['discarded_from_start', 'percent_decorrelated_samples', 'iterations_considered', 'percent_correlated_samples', 'effective_samples_by_iterations_considered', 'effective_samples', 'count_total_equilibration_samples', 'equilibration_samples', 'count_correlated_samples', 'count_decorrelated_samples', 'subsample_rate', 'subsample_rate_by_iterations_considered', 'percent_total_equilibration_samples'])\n"
     ]
    }
   ],
   "source": [
    "print(analysis_data['sams']['cb7argon']['equilibration']['complex'].keys())"
   ]
  },
  {
   "cell_type": "code",
   "execution_count": 50,
   "metadata": {},
   "outputs": [
    {
     "data": {
      "image/png": "[encoded data removed]",
      "text/plain": [
       "<Figure size 720x432 with 1 Axes>"
      ]
     },
     "metadata": {},
     "output_type": "display_data"
    }
   ],
   "source": [
    "fig = plt.figure(figsize=[10,6]);\n",
    "energy_unit = unit.kilocalories_per_mole\n",
    "samplers = ['sams', 'repex']\n",
    "complexes = ['cb7argon', 'cb7a1', 'cb7b2']\n",
    "replicates = ['', '_2', '_3']\n",
    "index = 1\n",
    "colors = {'sams' : 'r', 'repex' : 'b'}\n",
    "handles = list()\n",
    "for complex in complexes:\n",
    "    plt.text(index+1, -10, complex, fontsize=20);\n",
    "    h_apr = plt.plot(np.array([index+0.8, index  + 2*len(replicates) + 0.2]), np.array([1,1]) * apr_data[complex]['free_energy_diff']/energy_unit, 'k-')\n",
    "    for sampler in samplers:\n",
    "        for replicate in replicates:\n",
    "            index += 1\n",
    "            yank_dg = analysis_data[sampler][complex + replicate]['free_energy']['free_energy_diff_unit']\n",
    "            yank_dg_error = analysis_data[sampler][complex + replicate]['free_energy']['free_energy_diff_error_unit']            \n",
    "            h = plt.errorbar(index, yank_dg/energy_unit, 2*yank_dg_error/energy_unit, marker='o', color=colors[sampler])\n",
    "            handles.append(h)\n",
    "            nreplicas = analysis_data[sampler][complex + replicate]['general']['complex']['nreplicas']\n",
    "            nsamples = analysis_data[sampler][complex + replicate]['equilibration']['complex']['effective_samples']\n",
    "            plt.text(index, yank_dg/energy_unit + 1, '%d' % (nreplicas*nsamples), fontsize=8)\n",
    "plt.xticks([]);\n",
    "plt.ylabel('kcal/mol');\n",
    "plt.title('yank-validation cucubit7uril');\n",
    "plt.legend([h_apr[0], handles[0], handles[3]], ['APR', 'sams', 'repex']);"
   ]
  },
  {
   "cell_type": "code",
   "execution_count": 40,
   "metadata": {},
   "outputs": [
    {
     "data": {
      "text/plain": [
       "48"
      ]
     },
     "execution_count": 40,
     "metadata": {},
     "output_type": "execute_result"
    }
   ],
   "source": []
  },
  {
   "cell_type": "code",
   "execution_count": null,
   "metadata": {},
   "outputs": [],
   "source": []
  }
 ],
 "metadata": {
  "kernelspec": {
   "display_name": "Python 3",
   "language": "python",
   "name": "python3"
  },
  "language_info": {
   "codemirror_mode": {
    "name": "ipython",
    "version": 3
   },
   "file_extension": ".py",
   "mimetype": "text/x-python",
   "name": "python",
   "nbconvert_exporter": "python",
   "pygments_lexer": "ipython3",
   "version": "3.5.5"
  }
 },
 "nbformat": 4,
 "nbformat_minor": 2
}
