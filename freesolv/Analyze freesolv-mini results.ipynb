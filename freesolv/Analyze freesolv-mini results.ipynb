{
 "cells": [
  {
   "cell_type": "code",
   "execution_count": 1,
   "metadata": {},
   "outputs": [],
   "source": [
    "%matplotlib inline\n",
    "\n",
    "import matplotlib.pyplot as plt\n",
    "import seaborn as sns\n",
    "import numpy as np\n",
    "\n",
    "from simtk import unit"
   ]
  },
  {
   "cell_type": "code",
   "execution_count": 2,
   "metadata": {
    "scrolled": true
   },
   "outputs": [],
   "source": [
    "# Load FreeSolv data\n",
    "import csv\n",
    "freesolv = list()\n",
    "with open('freesolv-mini.smiles', 'r') as csvfile:\n",
    "    csvreader = csv.reader(filter(lambda row: row[0]!='#', csvfile), delimiter=';')\n",
    "    for row in csvreader:\n",
    "        [freesolv_id, smiles, iupac, dg_exp, dg_exp_error, dg_calc, dg_calc_error, doi, doi2, note] = row\n",
    "        entry = { \n",
    "            'id' : freesolv_id, \n",
    "            'dg_exp' : float(dg_exp) * unit.kilocalories_per_mole,\n",
    "            'dg_exp_error' : float(dg_exp_error) * unit.kilocalories_per_mole,\n",
    "            'dg_calc' : float(dg_calc) * unit.kilocalories_per_mole,\n",
    "            'dg_calc_error' : float(dg_calc_error) * unit.kilocalories_per_mole,            \n",
    "        } \n",
    "        freesolv.append(entry)\n",
    "nentries = len(freesolv)"
   ]
  },
  {
   "cell_type": "code",
   "execution_count": 3,
   "metadata": {},
   "outputs": [],
   "source": [
    "# Load analysis data\n",
    "import pickle\n",
    "with open('analysis.pkl', 'rb') as analysisfile:\n",
    "    analysis_data = pickle.load(analysisfile)"
   ]
  },
  {
   "cell_type": "code",
   "execution_count": 4,
   "metadata": {},
   "outputs": [],
   "source": [
    "nreplicates = 3\n",
    "prefix = 'sparseprotocol_tip3pfreesolv'\n",
    "for index, entry in enumerate(freesolv):\n",
    "    yank_dg = list()\n",
    "    yank_dg_error = list()\n",
    "    for replicate in range(nreplicates):\n",
    "        # form experiment name\n",
    "        suffix = ''\n",
    "        if replicate > 0:\n",
    "            suffix = '_' + str(replicate+1)\n",
    "        expname = f'{prefix}{index}{suffix}' \n",
    "        yank_dg.append(analysis_data[expname]['free_energy']['free_energy_diff_unit'])\n",
    "        yank_dg_error.append(analysis_data[expname]['free_energy']['free_energy_diff_error_unit'])\n",
    "    entry['dg_yank'] = yank_dg\n",
    "    entry['dg_yank_error'] = yank_dg_error\n",
    "    freesolv[index] = entry"
   ]
  },
  {
   "cell_type": "code",
   "execution_count": 5,
   "metadata": {},
   "outputs": [
    {
     "data": {
      "image/png": "[encoded data removed]",
      "text/plain": [
       "<Figure size 576x288 with 1 Axes>"
      ]
     },
     "metadata": {},
     "output_type": "display_data"
    }
   ],
   "source": [
    "energy_units = unit.kilocalories_per_mole\n",
    "fig = plt.figure(figsize=[8,4]);\n",
    "colors = sns.color_palette(\"hls\", nreplicates)\n",
    "for entry_index, entry in enumerate(freesolv):\n",
    "    h_exp = plt.plot(np.array([entry_index*nreplicates - 0.2, (entry_index+1)*nreplicates - 0.8]), np.array([1, 1])*entry['dg_exp'] / energy_units, 'r:')\n",
    "    h_calc = plt.plot(np.array([entry_index*nreplicates - 0.2, (entry_index+1)*nreplicates - 0.8]), np.array([1, 1])*entry['dg_calc'] / energy_units, 'k-')\n",
    "    plt.text(entry_index * nreplicates - 0.2, entry['dg_exp'] / energy_units + 2.0, entry['id'])\n",
    "    for replicate in range(nreplicates):\n",
    "        h_yank = plt.errorbar(entry_index*nreplicates + replicate, entry['dg_yank'][replicate] / energy_units, 2 * entry['dg_yank_error'][replicate] / energy_units, marker='o', markersize=6, color='b')\n",
    "plt.xticks([]);\n",
    "plt.ylabel('$\\Delta G_\\mathrm{hyd}$ (kcal/mol)')\n",
    "plt.legend([h_exp[0], h_calc[0], h_yank[0]], ['FreeSolv experiment', 'FreeSolv reference calc', 'YANK']);\n",
    "plt.title('freesolv-mini');"
   ]
  },
  {
   "cell_type": "code",
   "execution_count": null,
   "metadata": {},
   "outputs": [],
   "source": []
  }
 ],
 "metadata": {
  "kernelspec": {
   "display_name": "Python 3",
   "language": "python",
   "name": "python3"
  },
  "language_info": {
   "codemirror_mode": {
    "name": "ipython",
    "version": 3
   },
   "file_extension": ".py",
   "mimetype": "text/x-python",
   "name": "python",
   "nbconvert_exporter": "python",
   "pygments_lexer": "ipython3",
   "version": "3.6.5"
  }
 },
 "nbformat": 4,
 "nbformat_minor": 2
}
